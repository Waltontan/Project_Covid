{
 "cells": [
  {
   "cell_type": "markdown",
   "id": "1ef57312",
   "metadata": {},
   "source": [
    "# Import dependencies"
   ]
  },
  {
   "cell_type": "code",
   "execution_count": 1,
   "id": "816c874c",
   "metadata": {},
   "outputs": [],
   "source": [
    "import matplotlib.pyplot as plt\n",
    "import pandas as pd\n",
    "import numpy as np\n",
    "import requests\n",
    "import gmaps\n",
    "import json\n",
    "\n",
    "from config import g_key\n"
   ]
  },
  {
   "cell_type": "markdown",
   "id": "7469ec0f",
   "metadata": {},
   "source": [
    "# Import CSV\n",
    "Import csv and selected only required columns "
   ]
  },
  {
   "cell_type": "code",
   "execution_count": 2,
   "id": "44df7db0",
   "metadata": {},
   "outputs": [],
   "source": [
    "df= pd.read_csv(\"Resources/Data_Clean_Cases.csv\")\n",
    "# df = df[['location','people_vaccinated_per_hundred',\n",
    "#        'people_fully_vaccinated_per_hundred',\n",
    "#         'stringency_index','new_cases','new_cases_per_million']]\n"
   ]
  },
  {
   "cell_type": "markdown",
   "id": "2432ab87",
   "metadata": {},
   "source": [
    "# Change country name\n",
    "Country name for the geojson_layer is different from the one in the CSV.\n",
    "Change the name in the df to match the geojson_layer"
   ]
  },
  {
   "cell_type": "code",
   "execution_count": 3,
   "id": "0f5e8156",
   "metadata": {},
   "outputs": [],
   "source": [
    "change_from = ['Bahamas',\n",
    "               \"Cote d'Ivoire\",\n",
    "               'Democratic Republic of Congo',\n",
    "               'Congo',\n",
    "               'Czechia',\n",
    "               'Guinea-Bissau',\n",
    "               'North Macedonia',\n",
    "               'Serbia',\n",
    "               'Timor',\n",
    "               'Tanzania',\n",
    "               'United States']\n",
    "\n",
    "change_to = ['The Bahamas',\n",
    "             'Ivory Coast',\n",
    "             'Democratic Republic of the Congo',\n",
    "             'Republic of the Congo',\n",
    "             'Czech Republic',\n",
    "             'Guinea Bissau',\n",
    "             'Macedonia',\n",
    "             'Republic of Serbia',\n",
    "             'East Timor',\n",
    "             'United Republic of Tanzania',\n",
    "             'United States of America']\n",
    "\n",
    "for index, row in df.iterrows():\n",
    "    try:\n",
    "        x = change_from.index(row['location'])\n",
    "        df.loc[row.name,['location']] = change_to[x]\n",
    "    except:\n",
    "        x=0\n"
   ]
  },
  {
   "cell_type": "code",
   "execution_count": 4,
   "id": "b902c22e",
   "metadata": {},
   "outputs": [],
   "source": [
    "# Access maps with unique API key\n",
    "gmaps.configure(api_key=g_key)\n",
    "\n",
    "# Customize the size of the figure\n",
    "figure_layout = {\n",
    "    'width': '700px',\n",
    "    'height': '1000px',\n",
    "    'border': '1px solid black',\n",
    "    'padding': '1px',\n",
    "    'margin': '0 auto 0 auto'}\n",
    "fig = gmaps.figure(layout=figure_layout)"
   ]
  },
  {
   "cell_type": "code",
   "execution_count": 5,
   "id": "3a889c5d",
   "metadata": {},
   "outputs": [],
   "source": [
    "# Get a library of coordinates data to define country borders\n",
    "countries_string = requests.get(\n",
    "    \"https://raw.githubusercontent.com/johan/world.geo.json/master/countries.geo.json\"\n",
    ").content\n",
    "countries = json.loads(countries_string)\n",
    "\n",
    "# Create a list of countries captured in the geojson layer\n",
    "country_list = []\n",
    "for x in range(0,len(countries['features'])):\n",
    "    country_list.append(countries['features'][x]['properties']['name'])\n"
   ]
  },
  {
   "cell_type": "code",
   "execution_count": 6,
   "id": "7111431a",
   "metadata": {},
   "outputs": [
    {
     "name": "stderr",
     "output_type": "stream",
     "text": [
      "C:\\Users\\walto\\anaconda3\\envs\\PythonData\\lib\\site-packages\\ipykernel_launcher.py:1: FutureWarning: Dropping invalid columns in DataFrameGroupBy.max is deprecated. In a future version, a TypeError will be raised. Before calling .max, select only columns which should be valid for the function.\n",
      "  \"\"\"Entry point for launching an IPython kernel.\n"
     ]
    }
   ],
   "source": [
    "df_max = df.groupby('location').max().reset_index()\n",
    "df_sum = df.groupby('location').sum().reset_index()"
   ]
  },
  {
   "cell_type": "code",
   "execution_count": 7,
   "id": "89eff497",
   "metadata": {},
   "outputs": [],
   "source": [
    "#append info list to match country_list\n",
    "\n",
    "def prep_plot (df,info):\n",
    "    \n",
    "    locations = df['location'].values.tolist()\n",
    "    plotinfo = df[info].values.tolist()\n",
    "    \n",
    "    info=[]\n",
    "    \n",
    "    for country in country_list:\n",
    "        try:\n",
    "            locations.index(country)>=0\n",
    "            z = locations.index(country)\n",
    "            info.append(plotinfo[z])\n",
    "        except:\n",
    "            info.append(0)\n",
    "\n",
    "\n"
   ]
  },
  {
   "cell_type": "markdown",
   "id": "e316633f",
   "metadata": {},
   "source": [
    "# People fully Vaccinated per 100\n",
    "### Defined as total number of people who received all doses prescribed by the vaccination protocol per 100 people in the total population\n",
    "- The more opaque the colour the more fully vaccinated people per 100 is in the country"
   ]
  },
  {
   "cell_type": "code",
   "execution_count": 8,
   "id": "b6b27648",
   "metadata": {},
   "outputs": [
    {
     "data": {
      "application/vnd.jupyter.widget-view+json": {
       "model_id": "cbd36ffa32bf46b1b9c219ec39edf0e8",
       "version_major": 2,
       "version_minor": 0
      },
      "text/plain": [
       "Figure(layout=FigureLayout(height='420px'))"
      ]
     },
     "metadata": {},
     "output_type": "display_data"
    }
   ],
   "source": [
    "# Get plot information to a range from 0 to 1 \n",
    "df_max['people_fully_vaccinated_per_hundred_plot']=df_max['people_fully_vaccinated_per_hundred']/100\n",
    "\n",
    "\n",
    "locations = df_max['location'].values.tolist()\n",
    "plotinfo = df_max['people_fully_vaccinated_per_hundred_plot'].values.tolist()\n",
    "    \n",
    "info=[]\n",
    "    \n",
    "for country in country_list:\n",
    "    try:\n",
    "        locations.index(country)>=0\n",
    "        z = locations.index(country)\n",
    "        info.append(plotinfo[z])\n",
    "    except:\n",
    "        info.append(0)\n",
    "\n",
    "fig = gmaps.figure()\n",
    "geojson = gmaps.geojson_layer(countries,fill_color='red', fill_opacity=info)\n",
    "fig.add_layer(geojson)\n",
    "fig\n"
   ]
  },
  {
   "cell_type": "markdown",
   "id": "87b4874c",
   "metadata": {},
   "source": [
    "# GDP Distribution"
   ]
  },
  {
   "cell_type": "code",
   "execution_count": 9,
   "id": "d0387d4d",
   "metadata": {},
   "outputs": [
    {
     "data": {
      "application/vnd.jupyter.widget-view+json": {
       "model_id": "2a53659742734946b25b0002b344575d",
       "version_major": 2,
       "version_minor": 0
      },
      "text/plain": [
       "Figure(layout=FigureLayout(height='420px'))"
      ]
     },
     "metadata": {},
     "output_type": "display_data"
    }
   ],
   "source": [
    "# Get plot information to a range from 0 to 1 \n",
    "df_max['gdp_per_capita_percent']=df_max['gdp_per_capita']/df_max['gdp_per_capita'].sum()\n",
    "df_max['gdp_per_capita_plot'] = df_max['gdp_per_capita_percent']/df_max['gdp_per_capita_percent'].max()\n",
    "\n",
    "locations = df_max['location'].values.tolist()\n",
    "plotinfo = df_max['gdp_per_capita_plot'].values.tolist()\n",
    "    \n",
    "info=[]\n",
    "    \n",
    "for country in country_list:\n",
    "    try:\n",
    "        locations.index(country)>=0\n",
    "        z = locations.index(country)\n",
    "        info.append(plotinfo[z])\n",
    "    except:\n",
    "        info.append(0)\n",
    "\n",
    "fig = gmaps.figure()\n",
    "geojson = gmaps.geojson_layer(countries,fill_color='yellow', fill_opacity=info)\n",
    "fig.add_layer(geojson)\n",
    "fig"
   ]
  },
  {
   "cell_type": "markdown",
   "id": "16d132de",
   "metadata": {},
   "source": [
    "# Total Cases\n",
    "\n",
    "- The more opaque the colour the higher the case count in the country"
   ]
  },
  {
   "cell_type": "code",
   "execution_count": 10,
   "id": "cd83636e",
   "metadata": {},
   "outputs": [
    {
     "data": {
      "application/vnd.jupyter.widget-view+json": {
       "model_id": "5f67e3d325034a2b847056d6e9951bc2",
       "version_major": 2,
       "version_minor": 0
      },
      "text/plain": [
       "Figure(layout=FigureLayout(height='420px'))"
      ]
     },
     "metadata": {},
     "output_type": "display_data"
    }
   ],
   "source": [
    "\n",
    "df_sum['new_cases_percent'] = df_sum['new_cases']/df_sum['new_cases'].sum()*100\n",
    "df_sum['new_cases_plot']=df_sum['new_cases_percent']/df_sum['new_cases_percent'].max()\n",
    "\n",
    "locations = df_sum['location'].values.tolist()\n",
    "plotinfo = df_sum['new_cases_plot'].values.tolist()\n",
    "    \n",
    "info=[]\n",
    "    \n",
    "for country in country_list:\n",
    "    try:\n",
    "        locations.index(country)>=0\n",
    "        z = locations.index(country)\n",
    "        info.append(plotinfo[z])\n",
    "    except:\n",
    "        info.append(0)\n",
    "\n",
    "fig = gmaps.figure()\n",
    "geojson = gmaps.geojson_layer(countries,fill_color='blue', fill_opacity=info)\n",
    "fig.add_layer(geojson)\n",
    "fig"
   ]
  },
  {
   "cell_type": "code",
   "execution_count": 11,
   "id": "040d00c5",
   "metadata": {},
   "outputs": [
    {
     "data": {
      "application/vnd.jupyter.widget-view+json": {
       "model_id": "e2916d6eb4314ef3a6a6276dfca84617",
       "version_major": 2,
       "version_minor": 0
      },
      "text/plain": [
       "Figure(layout=FigureLayout(height='420px'))"
      ]
     },
     "metadata": {},
     "output_type": "display_data"
    }
   ],
   "source": [
    "\n",
    "df_sum['new_cases_per_million_percent'] = df_sum['new_cases_per_million']/df_sum['new_cases_per_million'].sum()*100\n",
    "df_sum['new_cases_per_million_plot']=df_sum['new_cases_per_million_percent']/df_sum['new_cases_per_million_percent'].max()\n",
    "\n",
    "locations = df_sum['location'].values.tolist()\n",
    "plotinfo = df_sum['new_cases_per_million_plot'].values.tolist()\n",
    "    \n",
    "info=[]\n",
    "    \n",
    "for country in country_list:\n",
    "    try:\n",
    "        locations.index(country)>=0\n",
    "        z = locations.index(country)\n",
    "        info.append(plotinfo[z])\n",
    "    except:\n",
    "        info.append(0)\n",
    "\n",
    "fig = gmaps.figure()\n",
    "geojson = gmaps.geojson_layer(countries,fill_color='green', fill_opacity=info)\n",
    "fig.add_layer(geojson)\n",
    "fig"
   ]
  },
  {
   "cell_type": "code",
   "execution_count": 12,
   "id": "4278c716",
   "metadata": {},
   "outputs": [
    {
     "data": {
      "application/vnd.jupyter.widget-view+json": {
       "model_id": "c27a02afa6244a55a5165a8400c78a95",
       "version_major": 2,
       "version_minor": 0
      },
      "text/plain": [
       "Figure(layout=FigureLayout(height='420px'))"
      ]
     },
     "metadata": {},
     "output_type": "display_data"
    }
   ],
   "source": [
    "\n",
    "df_sum['new_deaths_per_million_percent'] = df_sum['new_deaths_per_million']/df_sum['new_deaths_per_million'].sum()*100\n",
    "df_sum['new_deaths_per_million_plot']=df_sum['new_deaths_per_million_percent']/df_sum['new_deaths_per_million_percent'].max()\n",
    "\n",
    "locations = df_sum['location'].values.tolist()\n",
    "plotinfo = df_sum['new_deaths_per_million_plot'].values.tolist()\n",
    "    \n",
    "info=[]\n",
    "    \n",
    "for country in country_list:\n",
    "    try:\n",
    "        locations.index(country)>=0\n",
    "        z = locations.index(country)\n",
    "        info.append(plotinfo[z])\n",
    "    except:\n",
    "        info.append(0)\n",
    "\n",
    "fig = gmaps.figure()\n",
    "geojson = gmaps.geojson_layer(countries,fill_color='black', fill_opacity=info)\n",
    "fig.add_layer(geojson)\n",
    "fig"
   ]
  },
  {
   "cell_type": "code",
   "execution_count": 13,
   "id": "76b33c54",
   "metadata": {},
   "outputs": [
    {
     "data": {
      "application/vnd.jupyter.widget-view+json": {
       "model_id": "82353c3462dc412ab2a983222b66b00a",
       "version_major": 2,
       "version_minor": 0
      },
      "text/plain": [
       "Figure(layout=FigureLayout(height='420px'))"
      ]
     },
     "metadata": {},
     "output_type": "display_data"
    }
   ],
   "source": [
    "\n",
    "df_sum['new_deaths_percent'] = df_sum['new_deaths']/df_sum['new_deaths'].sum()*100\n",
    "df_sum['new_deaths_plot']=df_sum['new_deaths_percent']/df_sum['new_deaths_percent'].max()\n",
    "\n",
    "locations = df_sum['location'].values.tolist()\n",
    "plotinfo = df_sum['new_deaths_plot'].values.tolist()\n",
    "    \n",
    "info=[]\n",
    "    \n",
    "for country in country_list:\n",
    "    try:\n",
    "        locations.index(country)>=0\n",
    "        z = locations.index(country)\n",
    "        info.append(plotinfo[z])\n",
    "    except:\n",
    "        info.append(0)\n",
    "\n",
    "fig = gmaps.figure()\n",
    "geojson = gmaps.geojson_layer(countries,fill_color='purple', fill_opacity=info)\n",
    "fig.add_layer(geojson)\n",
    "fig"
   ]
  },
  {
   "cell_type": "code",
   "execution_count": 14,
   "id": "339df06b",
   "metadata": {},
   "outputs": [
    {
     "data": {
      "image/png": "[encoded data removed]",
      "text/plain": [
       "<Figure size 864x360 with 2 Axes>"
      ]
     },
     "metadata": {
      "needs_background": "light"
     },
     "output_type": "display_data"
    },
    {
     "name": "stdout",
     "output_type": "stream",
     "text": [
      "80% of the world's cases are in 34 countries out of the 186 countries analysed\n",
      "20% of the countries with the highest cases count accounts for 87.47% of cases\n"
     ]
    }
   ],
   "source": [
    "plt_df = pd.DataFrame({'country':locations,\n",
    "                        'new_cases_percent':df_sum['new_cases_percent'].values.tolist()\n",
    "                        })\n",
    "\n",
    "plt_df = plt_df.sort_values('new_cases_percent', ascending =False).reset_index()\n",
    "plt_df.pop('index')\n",
    "plt_df\n",
    "\n",
    "plt_df ['cumulative %']=\"\" \n",
    "cumulative = 0\n",
    "rownum = 0\n",
    "\n",
    "for index, row in plt_df.iterrows():\n",
    "    cumulative = cumulative + (row ['new_cases_percent'])\n",
    "    plt_df.loc[rownum,'cumulative %'] = cumulative\n",
    "    plt_df.loc[rownum,'new_cases_percent'] = row['new_cases_percent']\n",
    "    rownum = rownum + 1\n",
    "\n",
    "country20 = round(plt_df.loc[int(0.2*len(plt_df['country']))]['cumulative %'],2) \n",
    "plt_df = plt_df.head(40)\n",
    "\n",
    "fig, ax1 = plt.subplots(figsize = (12,5))\n",
    "\n",
    "color = 'tab:blue'\n",
    "ax1.set_xlabel('Country Name')\n",
    "ax1.tick_params(rotation = 90)\n",
    "ax1.set_ylabel('% Country vs World', color=color)\n",
    "ax1.bar(plt_df['country'], plt_df['new_cases_percent'], color=color)\n",
    "ax1.tick_params(axis='y', labelcolor=color)\n",
    "\n",
    "ax2 = ax1.twinx()  # instantiate a second axes that shares the same x-axis\n",
    "\n",
    "color = 'tab:red'\n",
    "ax2.set_ylabel('Cumulative % Country vs World', color=color)  # we already handled the x-label with ax1\n",
    "ax2.plot(plt_df['country'],plt_df['cumulative %'], color=color)\n",
    "ax2.tick_params(axis='y', labelcolor=color)\n",
    "\n",
    "fig.tight_layout()  # otherwise the right y-label is slightly clipped\n",
    "\n",
    "plt.title('Pareto Chart of Cases by Country')\n",
    "plt.show()\n",
    "\n",
    "\n",
    "print(f\"80% of the world's cases are in 23 countries out of the 186 countries analysed\")\n",
    "print(f'20% of the countries with the highest cases count accounts for {country20}% of cases')"
   ]
  },
  {
   "cell_type": "code",
   "execution_count": 15,
   "id": "29790226",
   "metadata": {},
   "outputs": [
    {
     "data": {
      "text/html": [
       "<div>\n",
       "<style scoped>\n",
       "    .dataframe tbody tr th:only-of-type {\n",
       "        vertical-align: middle;\n",
       "    }\n",
       "\n",
       "    .dataframe tbody tr th {\n",
       "        vertical-align: top;\n",
       "    }\n",
       "\n",
       "    .dataframe thead th {\n",
       "        text-align: right;\n",
       "    }\n",
       "</style>\n",
       "<table border=\"1\" class=\"dataframe\">\n",
       "  <thead>\n",
       "    <tr style=\"text-align: right;\">\n",
       "      <th></th>\n",
       "      <th>country</th>\n",
       "      <th>new_cases_percent</th>\n",
       "      <th>cumulative %</th>\n",
       "    </tr>\n",
       "  </thead>\n",
       "  <tbody>\n",
       "    <tr>\n",
       "      <th>0</th>\n",
       "      <td>United States of America</td>\n",
       "      <td>18.731402</td>\n",
       "      <td>18.731402</td>\n",
       "    </tr>\n",
       "    <tr>\n",
       "      <th>1</th>\n",
       "      <td>India</td>\n",
       "      <td>14.136896</td>\n",
       "      <td>32.868298</td>\n",
       "    </tr>\n",
       "    <tr>\n",
       "      <th>2</th>\n",
       "      <td>Brazil</td>\n",
       "      <td>8.918708</td>\n",
       "      <td>41.787006</td>\n",
       "    </tr>\n",
       "    <tr>\n",
       "      <th>3</th>\n",
       "      <td>United Kingdom</td>\n",
       "      <td>3.574908</td>\n",
       "      <td>45.361914</td>\n",
       "    </tr>\n",
       "    <tr>\n",
       "      <th>4</th>\n",
       "      <td>Russia</td>\n",
       "      <td>3.301463</td>\n",
       "      <td>48.663377</td>\n",
       "    </tr>\n",
       "    <tr>\n",
       "      <th>5</th>\n",
       "      <td>France</td>\n",
       "      <td>3.128195</td>\n",
       "      <td>51.791572</td>\n",
       "    </tr>\n",
       "    <tr>\n",
       "      <th>6</th>\n",
       "      <td>Turkey</td>\n",
       "      <td>2.866895</td>\n",
       "      <td>54.658467</td>\n",
       "    </tr>\n",
       "    <tr>\n",
       "      <th>7</th>\n",
       "      <td>Iran</td>\n",
       "      <td>2.411586</td>\n",
       "      <td>57.070053</td>\n",
       "    </tr>\n",
       "    <tr>\n",
       "      <th>8</th>\n",
       "      <td>Argentina</td>\n",
       "      <td>2.185515</td>\n",
       "      <td>59.255568</td>\n",
       "    </tr>\n",
       "    <tr>\n",
       "      <th>9</th>\n",
       "      <td>Spain</td>\n",
       "      <td>2.068414</td>\n",
       "      <td>61.323982</td>\n",
       "    </tr>\n",
       "    <tr>\n",
       "      <th>10</th>\n",
       "      <td>Colombia</td>\n",
       "      <td>2.064875</td>\n",
       "      <td>63.388856</td>\n",
       "    </tr>\n",
       "    <tr>\n",
       "      <th>11</th>\n",
       "      <td>Italy</td>\n",
       "      <td>1.957643</td>\n",
       "      <td>65.346499</td>\n",
       "    </tr>\n",
       "    <tr>\n",
       "      <th>12</th>\n",
       "      <td>Germany</td>\n",
       "      <td>1.834961</td>\n",
       "      <td>67.18146</td>\n",
       "    </tr>\n",
       "    <tr>\n",
       "      <th>13</th>\n",
       "      <td>Indonesia</td>\n",
       "      <td>1.755211</td>\n",
       "      <td>68.936671</td>\n",
       "    </tr>\n",
       "    <tr>\n",
       "      <th>14</th>\n",
       "      <td>Mexico</td>\n",
       "      <td>1.560750</td>\n",
       "      <td>70.497421</td>\n",
       "    </tr>\n",
       "    <tr>\n",
       "      <th>15</th>\n",
       "      <td>Poland</td>\n",
       "      <td>1.219955</td>\n",
       "      <td>71.717376</td>\n",
       "    </tr>\n",
       "    <tr>\n",
       "      <th>16</th>\n",
       "      <td>South Africa</td>\n",
       "      <td>1.208684</td>\n",
       "      <td>72.926059</td>\n",
       "    </tr>\n",
       "    <tr>\n",
       "      <th>17</th>\n",
       "      <td>Ukraine</td>\n",
       "      <td>1.161545</td>\n",
       "      <td>74.087604</td>\n",
       "    </tr>\n",
       "    <tr>\n",
       "      <th>18</th>\n",
       "      <td>Philippines</td>\n",
       "      <td>1.133095</td>\n",
       "      <td>75.220699</td>\n",
       "    </tr>\n",
       "    <tr>\n",
       "      <th>19</th>\n",
       "      <td>Malaysia</td>\n",
       "      <td>0.997230</td>\n",
       "      <td>76.217928</td>\n",
       "    </tr>\n",
       "    <tr>\n",
       "      <th>20</th>\n",
       "      <td>Peru</td>\n",
       "      <td>0.908095</td>\n",
       "      <td>77.126024</td>\n",
       "    </tr>\n",
       "    <tr>\n",
       "      <th>21</th>\n",
       "      <td>Netherlands</td>\n",
       "      <td>0.869529</td>\n",
       "      <td>77.995552</td>\n",
       "    </tr>\n",
       "    <tr>\n",
       "      <th>22</th>\n",
       "      <td>Iraq</td>\n",
       "      <td>0.845143</td>\n",
       "      <td>78.840696</td>\n",
       "    </tr>\n",
       "    <tr>\n",
       "      <th>23</th>\n",
       "      <td>Thailand</td>\n",
       "      <td>0.750537</td>\n",
       "      <td>79.591233</td>\n",
       "    </tr>\n",
       "    <tr>\n",
       "      <th>24</th>\n",
       "      <td>Japan</td>\n",
       "      <td>0.711042</td>\n",
       "      <td>80.302275</td>\n",
       "    </tr>\n",
       "    <tr>\n",
       "      <th>25</th>\n",
       "      <td>Czech Republic</td>\n",
       "      <td>0.710632</td>\n",
       "      <td>81.012907</td>\n",
       "    </tr>\n",
       "    <tr>\n",
       "      <th>26</th>\n",
       "      <td>Canada</td>\n",
       "      <td>0.703590</td>\n",
       "      <td>81.716497</td>\n",
       "    </tr>\n",
       "    <tr>\n",
       "      <th>27</th>\n",
       "      <td>Chile</td>\n",
       "      <td>0.693528</td>\n",
       "      <td>82.410026</td>\n",
       "    </tr>\n",
       "    <tr>\n",
       "      <th>28</th>\n",
       "      <td>Bangladesh</td>\n",
       "      <td>0.648972</td>\n",
       "      <td>83.058998</td>\n",
       "    </tr>\n",
       "    <tr>\n",
       "      <th>29</th>\n",
       "      <td>Romania</td>\n",
       "      <td>0.622775</td>\n",
       "      <td>83.681773</td>\n",
       "    </tr>\n",
       "    <tr>\n",
       "      <th>30</th>\n",
       "      <td>Israel</td>\n",
       "      <td>0.546754</td>\n",
       "      <td>84.228527</td>\n",
       "    </tr>\n",
       "    <tr>\n",
       "      <th>31</th>\n",
       "      <td>Belgium</td>\n",
       "      <td>0.538277</td>\n",
       "      <td>84.766804</td>\n",
       "    </tr>\n",
       "    <tr>\n",
       "      <th>32</th>\n",
       "      <td>Pakistan</td>\n",
       "      <td>0.524768</td>\n",
       "      <td>85.291572</td>\n",
       "    </tr>\n",
       "    <tr>\n",
       "      <th>33</th>\n",
       "      <td>Sweden</td>\n",
       "      <td>0.482340</td>\n",
       "      <td>85.773912</td>\n",
       "    </tr>\n",
       "    <tr>\n",
       "      <th>34</th>\n",
       "      <td>Portugal</td>\n",
       "      <td>0.448146</td>\n",
       "      <td>86.222058</td>\n",
       "    </tr>\n",
       "    <tr>\n",
       "      <th>35</th>\n",
       "      <td>Republic of Serbia</td>\n",
       "      <td>0.443527</td>\n",
       "      <td>86.665585</td>\n",
       "    </tr>\n",
       "    <tr>\n",
       "      <th>36</th>\n",
       "      <td>Kazakhstan</td>\n",
       "      <td>0.414805</td>\n",
       "      <td>87.08039</td>\n",
       "    </tr>\n",
       "    <tr>\n",
       "      <th>37</th>\n",
       "      <td>Morocco</td>\n",
       "      <td>0.390613</td>\n",
       "      <td>87.471003</td>\n",
       "    </tr>\n",
       "    <tr>\n",
       "      <th>38</th>\n",
       "      <td>Cuba</td>\n",
       "      <td>0.389437</td>\n",
       "      <td>87.86044</td>\n",
       "    </tr>\n",
       "    <tr>\n",
       "      <th>39</th>\n",
       "      <td>Vietnam</td>\n",
       "      <td>0.362003</td>\n",
       "      <td>88.222443</td>\n",
       "    </tr>\n",
       "  </tbody>\n",
       "</table>\n",
       "</div>"
      ],
      "text/plain": [
       "                     country  new_cases_percent cumulative %\n",
       "0   United States of America          18.731402    18.731402\n",
       "1                      India          14.136896    32.868298\n",
       "2                     Brazil           8.918708    41.787006\n",
       "3             United Kingdom           3.574908    45.361914\n",
       "4                     Russia           3.301463    48.663377\n",
       "5                     France           3.128195    51.791572\n",
       "6                     Turkey           2.866895    54.658467\n",
       "7                       Iran           2.411586    57.070053\n",
       "8                  Argentina           2.185515    59.255568\n",
       "9                      Spain           2.068414    61.323982\n",
       "10                  Colombia           2.064875    63.388856\n",
       "11                     Italy           1.957643    65.346499\n",
       "12                   Germany           1.834961     67.18146\n",
       "13                 Indonesia           1.755211    68.936671\n",
       "14                    Mexico           1.560750    70.497421\n",
       "15                    Poland           1.219955    71.717376\n",
       "16              South Africa           1.208684    72.926059\n",
       "17                   Ukraine           1.161545    74.087604\n",
       "18               Philippines           1.133095    75.220699\n",
       "19                  Malaysia           0.997230    76.217928\n",
       "20                      Peru           0.908095    77.126024\n",
       "21               Netherlands           0.869529    77.995552\n",
       "22                      Iraq           0.845143    78.840696\n",
       "23                  Thailand           0.750537    79.591233\n",
       "24                     Japan           0.711042    80.302275\n",
       "25            Czech Republic           0.710632    81.012907\n",
       "26                    Canada           0.703590    81.716497\n",
       "27                     Chile           0.693528    82.410026\n",
       "28                Bangladesh           0.648972    83.058998\n",
       "29                   Romania           0.622775    83.681773\n",
       "30                    Israel           0.546754    84.228527\n",
       "31                   Belgium           0.538277    84.766804\n",
       "32                  Pakistan           0.524768    85.291572\n",
       "33                    Sweden           0.482340    85.773912\n",
       "34                  Portugal           0.448146    86.222058\n",
       "35        Republic of Serbia           0.443527    86.665585\n",
       "36                Kazakhstan           0.414805     87.08039\n",
       "37                   Morocco           0.390613    87.471003\n",
       "38                      Cuba           0.389437     87.86044\n",
       "39                   Vietnam           0.362003    88.222443"
      ]
     },
     "execution_count": 15,
     "metadata": {},
     "output_type": "execute_result"
    }
   ],
   "source": [
    "plt_df"
   ]
  }
 ],
 "metadata": {
  "kernelspec": {
   "display_name": "Python [conda env:PythonData] *",
   "language": "python",
   "name": "conda-env-PythonData-py"
  },
  "language_info": {
   "codemirror_mode": {
    "name": "ipython",
    "version": 3
   },
   "file_extension": ".py",
   "mimetype": "text/x-python",
   "name": "python",
   "nbconvert_exporter": "python",
   "pygments_lexer": "ipython3",
   "version": "3.7.11"
  }
 },
 "nbformat": 4,
 "nbformat_minor": 5
}
