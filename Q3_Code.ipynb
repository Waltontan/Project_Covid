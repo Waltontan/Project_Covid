{
 "cells": [
  {
   "cell_type": "markdown",
   "id": "1ef57312",
   "metadata": {},
   "source": [
    "# Import dependencies"
   ]
  },
  {
   "cell_type": "code",
   "execution_count": 1,
   "id": "816c874c",
   "metadata": {},
   "outputs": [],
   "source": [
    "import matplotlib.pyplot as plt\n",
    "import pandas as pd\n",
    "import numpy as np\n",
    "import requests\n",
    "import gmaps\n",
    "import json\n",
    "\n",
    "from config import g_key\n"
   ]
  },
  {
   "cell_type": "markdown",
   "id": "7469ec0f",
   "metadata": {},
   "source": [
    "# Import CSV\n",
    "Import csv and selected only required columns "
   ]
  },
  {
   "cell_type": "code",
   "execution_count": 2,
   "id": "44df7db0",
   "metadata": {},
   "outputs": [],
   "source": [
    "df= pd.read_csv(\"Resources/Data_Clean_Cases.csv\")\n",
    "# df = df[['location','people_vaccinated_per_hundred',\n",
    "#        'people_fully_vaccinated_per_hundred',\n",
    "#         'stringency_index','new_cases','new_cases_per_million']]\n"
   ]
  },
  {
   "cell_type": "markdown",
   "id": "2432ab87",
   "metadata": {},
   "source": [
    "# Change country name\n",
    "Country name for the geojson_layer is different from the one in the CSV.\n",
    "Change the name in the df to match the geojson_layer"
   ]
  },
  {
   "cell_type": "code",
   "execution_count": 3,
   "id": "0f5e8156",
   "metadata": {},
   "outputs": [],
   "source": [
    "change_from = ['Bahamas',\n",
    "               \"Cote d'Ivoire\",\n",
    "               'Democratic Republic of Congo',\n",
    "               'Congo',\n",
    "               'Czechia',\n",
    "               'Guinea-Bissau',\n",
    "               'North Macedonia',\n",
    "               'Serbia',\n",
    "               'Timor',\n",
    "               'Tanzania',\n",
    "               'United States']\n",
    "\n",
    "change_to = ['The Bahamas',\n",
    "             'Ivory Coast',\n",
    "             'Democratic Republic of the Congo',\n",
    "             'Republic of the Congo',\n",
    "             'Czech Republic',\n",
    "             'Guinea Bissau',\n",
    "             'Macedonia',\n",
    "             'Republic of Serbia',\n",
    "             'East Timor',\n",
    "             'United Republic of Tanzania',\n",
    "             'United States of America']\n",
    "\n",
    "for index, row in df.iterrows():\n",
    "    try:\n",
    "        x = change_from.index(row['location'])\n",
    "        df.loc[row.name,['location']] = change_to[x]\n",
    "    except:\n",
    "        x=0\n"
   ]
  },
  {
   "cell_type": "code",
   "execution_count": 4,
   "id": "fb347a07",
   "metadata": {},
   "outputs": [],
   "source": [
    "# Access maps with unique API key\n",
    "gmaps.configure(api_key=g_key)\n",
    "\n",
    "# Customize the size of the figure\n",
    "figure_layout = {\n",
    "    'width': '700px',\n",
    "    'height': '1000px',\n",
    "    'border': '1px solid black',\n",
    "    'padding': '1px',\n",
    "    'margin': '0 auto 0 auto'}\n",
    "fig = gmaps.figure(layout=figure_layout)"
   ]
  },
  {
   "cell_type": "code",
   "execution_count": 5,
   "id": "2b6498f8",
   "metadata": {},
   "outputs": [],
   "source": [
    "# Get a library of coordinates data to define country borders\n",
    "countries_string = requests.get(\n",
    "    \"https://raw.githubusercontent.com/johan/world.geo.json/master/countries.geo.json\"\n",
    ").content\n",
    "countries = json.loads(countries_string)\n",
    "\n",
    "# Create a list of countries captured in the geojson layer\n",
    "country_list = []\n",
    "for x in range(0,len(countries['features'])):\n",
    "    country_list.append(countries['features'][x]['properties']['name'])\n"
   ]
  },
  {
   "cell_type": "code",
   "execution_count": 6,
   "id": "b67e9bec",
   "metadata": {},
   "outputs": [
    {
     "name": "stderr",
     "output_type": "stream",
     "text": [
      "C:\\Users\\walto\\anaconda3\\envs\\PythonData\\lib\\site-packages\\ipykernel_launcher.py:1: FutureWarning: Dropping invalid columns in DataFrameGroupBy.max is deprecated. In a future version, a TypeError will be raised. Before calling .max, select only columns which should be valid for the function.\n",
      "  \"\"\"Entry point for launching an IPython kernel.\n",
      "C:\\Users\\walto\\anaconda3\\envs\\PythonData\\lib\\site-packages\\ipykernel_launcher.py:2: FutureWarning: Dropping invalid columns in DataFrameGroupBy.max is deprecated. In a future version, a TypeError will be raised. Before calling .max, select only columns which should be valid for the function.\n",
      "  \n"
     ]
    }
   ],
   "source": [
    "df_max = df.groupby('location').max().reset_index()\n",
    "df_sum = df.groupby('location').max().reset_index()"
   ]
  },
  {
   "cell_type": "code",
   "execution_count": 7,
   "id": "8e3b6458",
   "metadata": {},
   "outputs": [],
   "source": [
    "#append info list to match country_list\n",
    "\n",
    "def prep_plot (df,info):\n",
    "    \n",
    "    locations = df['location'].values.tolist()\n",
    "    plotinfo = df[info].values.tolist()\n",
    "    \n",
    "    info=[]\n",
    "    \n",
    "    for country in country_list:\n",
    "        try:\n",
    "            locations.index(country)>=0\n",
    "            z = locations.index(country)\n",
    "            info.append(plotinfo[z])\n",
    "        except:\n",
    "            info.append(0)\n",
    "\n",
    "\n"
   ]
  },
  {
   "cell_type": "markdown",
   "id": "13254a31",
   "metadata": {},
   "source": [
    "# People fully Vaccinated per 100\n",
    "### Defined as total number of people who received all doses prescribed by the vaccination protocol per 100 people in the total population\n",
    "- The more opaque the colour the more fully vaccinated people per 100 is in the country"
   ]
  },
  {
   "cell_type": "code",
   "execution_count": 8,
   "id": "f87e639c",
   "metadata": {},
   "outputs": [
    {
     "data": {
      "application/vnd.jupyter.widget-view+json": {
       "model_id": "29ad61b4862b4f45829faa9693a28644",
       "version_major": 2,
       "version_minor": 0
      },
      "text/plain": [
       "Figure(layout=FigureLayout(height='420px'))"
      ]
     },
     "metadata": {},
     "output_type": "display_data"
    }
   ],
   "source": [
    "# Get plot information to a range from 0 to 1 \n",
    "df_max['people_fully_vaccinated_per_hundred_plot']=df_max['people_fully_vaccinated_per_hundred']/100\n",
    "\n",
    "\n",
    "locations = df_max['location'].values.tolist()\n",
    "plotinfo = df_max['people_fully_vaccinated_per_hundred_plot'].values.tolist()\n",
    "    \n",
    "info=[]\n",
    "    \n",
    "for country in country_list:\n",
    "    try:\n",
    "        locations.index(country)>=0\n",
    "        z = locations.index(country)\n",
    "        info.append(plotinfo[z])\n",
    "    except:\n",
    "        info.append(0)\n",
    "\n",
    "fig = gmaps.figure()\n",
    "geojson = gmaps.geojson_layer(countries,fill_color='red', fill_opacity=info)\n",
    "fig.add_layer(geojson)\n",
    "fig\n"
   ]
  },
  {
   "cell_type": "markdown",
   "id": "7eaaa4ea",
   "metadata": {},
   "source": [
    "# GDP Distribution"
   ]
  },
  {
   "cell_type": "code",
   "execution_count": 16,
   "id": "867d2679",
   "metadata": {},
   "outputs": [
    {
     "data": {
      "application/vnd.jupyter.widget-view+json": {
       "model_id": "fcbd3208989047b0b9a80d774086cb57",
       "version_major": 2,
       "version_minor": 0
      },
      "text/plain": [
       "Figure(layout=FigureLayout(height='420px'))"
      ]
     },
     "metadata": {},
     "output_type": "display_data"
    }
   ],
   "source": [
    "# Get plot information to a range from 0 to 1 \n",
    "df_max['gdp_per_capita_percent']=df_max['gdp_per_capita']/df_max['gdp_per_capita'].sum()\n",
    "df_max['gdp_per_capita_plot'] = df_max['gdp_per_capita_percent']/df_max['gdp_per_capita_percent'].max()\n",
    "\n",
    "locations = df_max['location'].values.tolist()\n",
    "plotinfo = df_max['gdp_per_capita_plot'].values.tolist()\n",
    "    \n",
    "info=[]\n",
    "    \n",
    "for country in country_list:\n",
    "    try:\n",
    "        locations.index(country)>=0\n",
    "        z = locations.index(country)\n",
    "        info.append(plotinfo[z])\n",
    "    except:\n",
    "        info.append(0)\n",
    "\n",
    "fig = gmaps.figure()\n",
    "geojson = gmaps.geojson_layer(countries,fill_color='yellow', fill_opacity=info)\n",
    "fig.add_layer(geojson)\n",
    "fig"
   ]
  },
  {
   "cell_type": "markdown",
   "id": "14eba9f6",
   "metadata": {},
   "source": [
    "# Total Cases\n",
    "\n",
    "- The more opaque the colour the higher the case count in the country"
   ]
  },
  {
   "cell_type": "code",
   "execution_count": 10,
   "id": "c98cb928",
   "metadata": {},
   "outputs": [
    {
     "data": {
      "application/vnd.jupyter.widget-view+json": {
       "model_id": "6789cc11eaa04ea497cd24c3ce090d24",
       "version_major": 2,
       "version_minor": 0
      },
      "text/plain": [
       "Figure(layout=FigureLayout(height='420px'))"
      ]
     },
     "metadata": {},
     "output_type": "display_data"
    }
   ],
   "source": [
    "\n",
    "df_sum['new_cases_percent'] = df_sum['new_cases']/df_sum['new_cases'].sum()*100\n",
    "df_sum['new_cases_plot']=df_sum['new_cases_percent']/df_sum['new_cases_percent'].max()\n",
    "\n",
    "locations = df_sum['location'].values.tolist()\n",
    "plotinfo = df_sum['new_cases_plot'].values.tolist()\n",
    "    \n",
    "info=[]\n",
    "    \n",
    "for country in country_list:\n",
    "    try:\n",
    "        locations.index(country)>=0\n",
    "        z = locations.index(country)\n",
    "        info.append(plotinfo[z])\n",
    "    except:\n",
    "        info.append(0)\n",
    "\n",
    "fig = gmaps.figure()\n",
    "geojson = gmaps.geojson_layer(countries,fill_color='blue', fill_opacity=info)\n",
    "fig.add_layer(geojson)\n",
    "fig"
   ]
  },
  {
   "cell_type": "code",
   "execution_count": 11,
   "id": "84045b43",
   "metadata": {},
   "outputs": [
    {
     "data": {
      "application/vnd.jupyter.widget-view+json": {
       "model_id": "2c9c44c7d6424d74ae8f923372d0366a",
       "version_major": 2,
       "version_minor": 0
      },
      "text/plain": [
       "Figure(layout=FigureLayout(height='420px'))"
      ]
     },
     "metadata": {},
     "output_type": "display_data"
    }
   ],
   "source": [
    "\n",
    "df_sum['new_cases_per_million_percent'] = df_sum['new_cases_per_million']/df_sum['new_cases_per_million'].sum()*100\n",
    "df_sum['new_cases_per_million_plot']=df_sum['new_cases_per_million_percent']/df_sum['new_cases_per_million_percent'].max()\n",
    "\n",
    "locations = df_sum['location'].values.tolist()\n",
    "plotinfo = df_sum['new_cases_per_million_plot'].values.tolist()\n",
    "    \n",
    "info=[]\n",
    "    \n",
    "for country in country_list:\n",
    "    try:\n",
    "        locations.index(country)>=0\n",
    "        z = locations.index(country)\n",
    "        info.append(plotinfo[z])\n",
    "    except:\n",
    "        info.append(0)\n",
    "\n",
    "fig = gmaps.figure()\n",
    "geojson = gmaps.geojson_layer(countries,fill_color='green', fill_opacity=info)\n",
    "fig.add_layer(geojson)\n",
    "fig"
   ]
  },
  {
   "cell_type": "code",
   "execution_count": 17,
   "id": "9b28b0a0",
   "metadata": {},
   "outputs": [
    {
     "data": {
      "application/vnd.jupyter.widget-view+json": {
       "model_id": "d03640ee48724525885daf97bbe07bf9",
       "version_major": 2,
       "version_minor": 0
      },
      "text/plain": [
       "Figure(layout=FigureLayout(height='420px'))"
      ]
     },
     "metadata": {},
     "output_type": "display_data"
    }
   ],
   "source": [
    "\n",
    "df_sum['new_deaths_per_million_percent'] = df_sum['new_deaths_per_million']/df_sum['new_deaths_per_million'].sum()*100\n",
    "df_sum['new_deaths_per_million_plot']=df_sum['new_deaths_per_million_percent']/df_sum['new_deaths_per_million_percent'].max()\n",
    "\n",
    "locations = df_sum['location'].values.tolist()\n",
    "plotinfo = df_sum['new_deaths_per_million_plot'].values.tolist()\n",
    "    \n",
    "info=[]\n",
    "    \n",
    "for country in country_list:\n",
    "    try:\n",
    "        locations.index(country)>=0\n",
    "        z = locations.index(country)\n",
    "        info.append(plotinfo[z])\n",
    "    except:\n",
    "        info.append(0)\n",
    "\n",
    "fig = gmaps.figure()\n",
    "geojson = gmaps.geojson_layer(countries,fill_color='black', fill_opacity=info)\n",
    "fig.add_layer(geojson)\n",
    "fig"
   ]
  },
  {
   "cell_type": "code",
   "execution_count": 18,
   "id": "4cc724d0",
   "metadata": {},
   "outputs": [
    {
     "data": {
      "application/vnd.jupyter.widget-view+json": {
       "model_id": "9d307d95c21347a59e4ce1c8ac785ce1",
       "version_major": 2,
       "version_minor": 0
      },
      "text/plain": [
       "Figure(layout=FigureLayout(height='420px'))"
      ]
     },
     "metadata": {},
     "output_type": "display_data"
    }
   ],
   "source": [
    "\n",
    "df_sum['new_deaths_percent'] = df_sum['new_deaths']/df_sum['new_deaths'].sum()*100\n",
    "df_sum['new_deaths_plot']=df_sum['new_deaths_percent']/df_sum['new_deaths_percent'].max()\n",
    "\n",
    "locations = df_sum['location'].values.tolist()\n",
    "plotinfo = df_sum['new_deaths_plot'].values.tolist()\n",
    "    \n",
    "info=[]\n",
    "    \n",
    "for country in country_list:\n",
    "    try:\n",
    "        locations.index(country)>=0\n",
    "        z = locations.index(country)\n",
    "        info.append(plotinfo[z])\n",
    "    except:\n",
    "        info.append(0)\n",
    "\n",
    "fig = gmaps.figure()\n",
    "geojson = gmaps.geojson_layer(countries,fill_color='purple', fill_opacity=info)\n",
    "fig.add_layer(geojson)\n",
    "fig"
   ]
  },
  {
   "cell_type": "code",
   "execution_count": 12,
   "id": "339df06b",
   "metadata": {},
   "outputs": [
    {
     "data": {
      "image/png": "[encoded data removed]",
      "text/plain": [
       "<Figure size 432x288 with 2 Axes>"
      ]
     },
     "metadata": {
      "needs_background": "light"
     },
     "output_type": "display_data"
    },
    {
     "name": "stdout",
     "output_type": "stream",
     "text": [
      "80% of the world's cases are in 34 countries out of the 186 countries analysed\n",
      "20% of the countries with the highest cases count accounts for 81.66% of cases\n"
     ]
    }
   ],
   "source": [
    "plt_df = pd.DataFrame({'country':locations,\n",
    "                        'new_cases_percent':df_sum['new_cases_percent'].values.tolist()\n",
    "                        })\n",
    "\n",
    "plt_df = plt_df.sort_values('new_cases_percent', ascending =False).reset_index()\n",
    "plt_df.pop('index')\n",
    "plt_df\n",
    "\n",
    "plt_df ['cumulative %']=\"\" \n",
    "cumulative = 0\n",
    "rownum = 0\n",
    "\n",
    "for index, row in plt_df.iterrows():\n",
    "    cumulative = cumulative + (row ['new_cases_percent'])\n",
    "    plt_df.loc[rownum,'cumulative %'] = cumulative\n",
    "    plt_df.loc[rownum,'new_cases_percent'] = row['new_cases_percent']\n",
    "    rownum = rownum + 1\n",
    "\n",
    "country20 = round(plt_df.loc[int(0.2*len(plt_df['country']))]['cumulative %'],2) \n",
    "plt_df = plt_df.head(40)\n",
    "\n",
    "plt_df\n",
    "\n",
    "\n",
    "\n",
    "fig, ax1 = plt.subplots()\n",
    "\n",
    "color = 'tab:blue'\n",
    "ax1.set_xlabel('Country Name')\n",
    "ax1.tick_params(rotation = 90)\n",
    "ax1.set_ylabel('% Country vs World', color=color)\n",
    "ax1.bar(plt_df['country'], plt_df['new_cases_percent'], color=color)\n",
    "ax1.tick_params(axis='y', labelcolor=color)\n",
    "\n",
    "ax2 = ax1.twinx()  # instantiate a second axes that shares the same x-axis\n",
    "\n",
    "color = 'tab:red'\n",
    "ax2.set_ylabel('Cumulative % Country vs World', color=color)  # we already handled the x-label with ax1\n",
    "ax2.plot(plt_df['country'],plt_df['cumulative %'], color=color)\n",
    "ax2.tick_params(axis='y', labelcolor=color)\n",
    "\n",
    "fig.tight_layout()  # otherwise the right y-label is slightly clipped\n",
    "plt.title('Pareto Chart of Cases by Country')\n",
    "plt.show()\n",
    "\n",
    "\n",
    "print(f\"80% of the world's cases are in 34 countries out of the 186 countries analysed\")\n",
    "print(f'20% of the countries with the highest cases count accounts for {country20}% of cases')"
   ]
  }
 ],
 "metadata": {
  "kernelspec": {
   "display_name": "Python [conda env:PythonData] *",
   "language": "python",
   "name": "conda-env-PythonData-py"
  },
  "language_info": {
   "codemirror_mode": {
    "name": "ipython",
    "version": 3
   },
   "file_extension": ".py",
   "mimetype": "text/x-python",
   "name": "python",
   "nbconvert_exporter": "python",
   "pygments_lexer": "ipython3",
   "version": "3.7.11"
  }
 },
 "nbformat": 4,
 "nbformat_minor": 5
}
