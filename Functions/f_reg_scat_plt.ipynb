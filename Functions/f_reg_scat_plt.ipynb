{
 "cells": [
  {
   "cell_type": "code",
   "execution_count": 1,
   "id": "f51f7961",
   "metadata": {},
   "outputs": [],
   "source": [
    "def f_reg_scat_plt(df,col1,col2,x_pos_ann=0,y_pos_ann=0):\n",
    "    import pandas as pd\n",
    "    import scipy.stats as sts\n",
    "    import matplotlib.pyplot as plt\n",
    "\n",
    "    temp_df = df[[col1,col2]]\n",
    "\n",
    "    temp_df = temp_df.dropna()\n",
    "\n",
    "    # Perform a linear regression on x_value vs. y_value\n",
    "    (slope, intercept, rvalue, pvalue, stderr) = sts.linregress(temp_df[col1], temp_df[col2])\n",
    "\n",
    "    # Regression Fomula\n",
    "    regress_values = df[col1] * slope + intercept\n",
    "\n",
    "    # Create line equation string\n",
    "    line_eq = \"y = \" + str(round(slope,2)) + \"x +\" + str(round(intercept,2))\n",
    "\n",
    "    # Create Plot\n",
    "    plt.scatter(df[col1],df[col2])\n",
    "    plt.plot(df[col1],regress_values,\"r-\")\n",
    "\n",
    "    # Label plot and annotate the line equation\n",
    "    plt.xlabel(col1)\n",
    "    plt.ylabel(col2)\n",
    "    plt.title(f'{col1} vs {col2}')\n",
    "    plt.annotate(line_eq,(x_pos_ann,y_pos_ann),fontsize=15,color=\"red\")\n",
    "\n",
    "    # Show plot\n",
    "    plt.show()\n",
    "\n",
    "    # Print r value\n",
    "    print(f\"The r-value is: {round(rvalue**2,5)}\")"
   ]
  },
  {
   "cell_type": "code",
   "execution_count": 2,
   "id": "c0059076",
   "metadata": {},
   "outputs": [],
   "source": [
    "# import pandas as pd\n",
    "\n",
    "# df = pd.read_csv(\"../Resources/Data_Clean_Cases.csv\")"
   ]
  },
  {
   "cell_type": "code",
   "execution_count": 3,
   "id": "1b1979df",
   "metadata": {},
   "outputs": [],
   "source": [
    "# # Test function\n",
    "\n",
    "# col1 = 'total_tests'\n",
    "# col2 = 'total_cases'\n",
    "# x_pos_ann = 0\n",
    "# y_pos_ann = 20000000\n",
    "\n",
    "# f_reg_scat_plt(df,col1,col2,x_pos_ann,y_pos_ann)"
   ]
  },
  {
   "cell_type": "code",
   "execution_count": null,
   "id": "cee9bbbd",
   "metadata": {},
   "outputs": [],
   "source": []
  }
 ],
 "metadata": {
  "kernelspec": {
   "display_name": "Python [conda env:PythonData] *",
   "language": "python",
   "name": "conda-env-PythonData-py"
  },
  "language_info": {
   "codemirror_mode": {
    "name": "ipython",
    "version": 3
   },
   "file_extension": ".py",
   "mimetype": "text/x-python",
   "name": "python",
   "nbconvert_exporter": "python",
   "pygments_lexer": "ipython3",
   "version": "3.7.11"
  }
 },
 "nbformat": 4,
 "nbformat_minor": 5
}
